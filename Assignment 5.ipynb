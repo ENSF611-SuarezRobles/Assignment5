{
  "cells": [
    {
      "cell_type": "markdown",
      "id": "87fee377",
      "metadata": {
        "id": "87fee377"
      },
      "source": [
        "# Assignment 5: PCA and Clustering (40 marks)\n",
        "### Due: December 6 at 11:59pm\n",
        "(Dropbox will remain open until December 8 at 11:59pm)\n",
        "\n",
        "### Name: Israel Suarez Robles"
      ]
    },
    {
      "cell_type": "markdown",
      "id": "ba7f05d0",
      "metadata": {
        "id": "ba7f05d0"
      },
      "source": [
        "The purpose of this assignment is to practice using PCA and clustering techniques on a given dataset."
      ]
    },
    {
      "cell_type": "code",
      "execution_count": 9,
      "id": "be4299ae",
      "metadata": {
        "id": "be4299ae"
      },
      "outputs": [],
      "source": [
        "import numpy as np\n",
        "import pandas as pd\n",
        "import matplotlib.pyplot as plt\n",
        "import seaborn as sns"
      ]
    },
    {
      "cell_type": "markdown",
      "id": "3c84e8e3",
      "metadata": {
        "id": "3c84e8e3"
      },
      "source": [
        "## Part 1: Principle Component Analysis (PCA) (18 marks)"
      ]
    },
    {
      "cell_type": "markdown",
      "id": "fe7cfa4f",
      "metadata": {
        "id": "fe7cfa4f"
      },
      "source": [
        "### Step 1. Load data (2 marks)\n",
        "\n",
        "You have been asked by an agricultural company to help them predict the type of wheat based on kernel characteristics. You have been given all the information you need in the seeds_dataset.txt file on D2L. The original dataset can be found [here](https://archive.ics.uci.edu/dataset/236/seeds)\n",
        "\n",
        "The first step is to read in the file using pandas and inspect the first few columns. Note that the data is in a text file, so the separator is different compared to a csv file."
      ]
    },
    {
      "cell_type": "code",
      "execution_count": 10,
      "id": "474481f1",
      "metadata": {
        "tags": [],
        "colab": {
          "base_uri": "https://localhost:8080/",
          "height": 204
        },
        "id": "474481f1",
        "outputId": "ce7eb7f3-3283-4c50-ad87-da4d0aae4d50"
      },
      "outputs": [
        {
          "output_type": "execute_result",
          "data": {
            "text/plain": [
              "    area  perimeter  compactness  kernel_length  kernel_width  \\\n",
              "0  15.26      14.84       0.8710          5.763         3.312   \n",
              "1  14.88      14.57       0.8811          5.554         3.333   \n",
              "2  14.29      14.09       0.9050          5.291         3.337   \n",
              "3  13.84      13.94       0.8955          5.324         3.379   \n",
              "4  16.14      14.99       0.9034          5.658         3.562   \n",
              "\n",
              "   asymmetry_coeff  kernel_groove_length  wheat_type  \n",
              "0            2.221                 5.220           1  \n",
              "1            1.018                 4.956           1  \n",
              "2            2.699                 4.825           1  \n",
              "3            2.259                 4.805           1  \n",
              "4            1.355                 5.175           1  "
            ],
            "text/html": [
              "\n",
              "  <div id=\"df-f12061a7-9b75-4c85-af35-9cf37887240f\" class=\"colab-df-container\">\n",
              "    <div>\n",
              "<style scoped>\n",
              "    .dataframe tbody tr th:only-of-type {\n",
              "        vertical-align: middle;\n",
              "    }\n",
              "\n",
              "    .dataframe tbody tr th {\n",
              "        vertical-align: top;\n",
              "    }\n",
              "\n",
              "    .dataframe thead th {\n",
              "        text-align: right;\n",
              "    }\n",
              "</style>\n",
              "<table border=\"1\" class=\"dataframe\">\n",
              "  <thead>\n",
              "    <tr style=\"text-align: right;\">\n",
              "      <th></th>\n",
              "      <th>area</th>\n",
              "      <th>perimeter</th>\n",
              "      <th>compactness</th>\n",
              "      <th>kernel_length</th>\n",
              "      <th>kernel_width</th>\n",
              "      <th>asymmetry_coeff</th>\n",
              "      <th>kernel_groove_length</th>\n",
              "      <th>wheat_type</th>\n",
              "    </tr>\n",
              "  </thead>\n",
              "  <tbody>\n",
              "    <tr>\n",
              "      <th>0</th>\n",
              "      <td>15.26</td>\n",
              "      <td>14.84</td>\n",
              "      <td>0.8710</td>\n",
              "      <td>5.763</td>\n",
              "      <td>3.312</td>\n",
              "      <td>2.221</td>\n",
              "      <td>5.220</td>\n",
              "      <td>1</td>\n",
              "    </tr>\n",
              "    <tr>\n",
              "      <th>1</th>\n",
              "      <td>14.88</td>\n",
              "      <td>14.57</td>\n",
              "      <td>0.8811</td>\n",
              "      <td>5.554</td>\n",
              "      <td>3.333</td>\n",
              "      <td>1.018</td>\n",
              "      <td>4.956</td>\n",
              "      <td>1</td>\n",
              "    </tr>\n",
              "    <tr>\n",
              "      <th>2</th>\n",
              "      <td>14.29</td>\n",
              "      <td>14.09</td>\n",
              "      <td>0.9050</td>\n",
              "      <td>5.291</td>\n",
              "      <td>3.337</td>\n",
              "      <td>2.699</td>\n",
              "      <td>4.825</td>\n",
              "      <td>1</td>\n",
              "    </tr>\n",
              "    <tr>\n",
              "      <th>3</th>\n",
              "      <td>13.84</td>\n",
              "      <td>13.94</td>\n",
              "      <td>0.8955</td>\n",
              "      <td>5.324</td>\n",
              "      <td>3.379</td>\n",
              "      <td>2.259</td>\n",
              "      <td>4.805</td>\n",
              "      <td>1</td>\n",
              "    </tr>\n",
              "    <tr>\n",
              "      <th>4</th>\n",
              "      <td>16.14</td>\n",
              "      <td>14.99</td>\n",
              "      <td>0.9034</td>\n",
              "      <td>5.658</td>\n",
              "      <td>3.562</td>\n",
              "      <td>1.355</td>\n",
              "      <td>5.175</td>\n",
              "      <td>1</td>\n",
              "    </tr>\n",
              "  </tbody>\n",
              "</table>\n",
              "</div>\n",
              "    <div class=\"colab-df-buttons\">\n",
              "\n",
              "  <div class=\"colab-df-container\">\n",
              "    <button class=\"colab-df-convert\" onclick=\"convertToInteractive('df-f12061a7-9b75-4c85-af35-9cf37887240f')\"\n",
              "            title=\"Convert this dataframe to an interactive table.\"\n",
              "            style=\"display:none;\">\n",
              "\n",
              "  <svg xmlns=\"http://www.w3.org/2000/svg\" height=\"24px\" viewBox=\"0 -960 960 960\">\n",
              "    <path d=\"M120-120v-720h720v720H120Zm60-500h600v-160H180v160Zm220 220h160v-160H400v160Zm0 220h160v-160H400v160ZM180-400h160v-160H180v160Zm440 0h160v-160H620v160ZM180-180h160v-160H180v160Zm440 0h160v-160H620v160Z\"/>\n",
              "  </svg>\n",
              "    </button>\n",
              "\n",
              "  <style>\n",
              "    .colab-df-container {\n",
              "      display:flex;\n",
              "      gap: 12px;\n",
              "    }\n",
              "\n",
              "    .colab-df-convert {\n",
              "      background-color: #E8F0FE;\n",
              "      border: none;\n",
              "      border-radius: 50%;\n",
              "      cursor: pointer;\n",
              "      display: none;\n",
              "      fill: #1967D2;\n",
              "      height: 32px;\n",
              "      padding: 0 0 0 0;\n",
              "      width: 32px;\n",
              "    }\n",
              "\n",
              "    .colab-df-convert:hover {\n",
              "      background-color: #E2EBFA;\n",
              "      box-shadow: 0px 1px 2px rgba(60, 64, 67, 0.3), 0px 1px 3px 1px rgba(60, 64, 67, 0.15);\n",
              "      fill: #174EA6;\n",
              "    }\n",
              "\n",
              "    .colab-df-buttons div {\n",
              "      margin-bottom: 4px;\n",
              "    }\n",
              "\n",
              "    [theme=dark] .colab-df-convert {\n",
              "      background-color: #3B4455;\n",
              "      fill: #D2E3FC;\n",
              "    }\n",
              "\n",
              "    [theme=dark] .colab-df-convert:hover {\n",
              "      background-color: #434B5C;\n",
              "      box-shadow: 0px 1px 3px 1px rgba(0, 0, 0, 0.15);\n",
              "      filter: drop-shadow(0px 1px 2px rgba(0, 0, 0, 0.3));\n",
              "      fill: #FFFFFF;\n",
              "    }\n",
              "  </style>\n",
              "\n",
              "    <script>\n",
              "      const buttonEl =\n",
              "        document.querySelector('#df-f12061a7-9b75-4c85-af35-9cf37887240f button.colab-df-convert');\n",
              "      buttonEl.style.display =\n",
              "        google.colab.kernel.accessAllowed ? 'block' : 'none';\n",
              "\n",
              "      async function convertToInteractive(key) {\n",
              "        const element = document.querySelector('#df-f12061a7-9b75-4c85-af35-9cf37887240f');\n",
              "        const dataTable =\n",
              "          await google.colab.kernel.invokeFunction('convertToInteractive',\n",
              "                                                    [key], {});\n",
              "        if (!dataTable) return;\n",
              "\n",
              "        const docLinkHtml = 'Like what you see? Visit the ' +\n",
              "          '<a target=\"_blank\" href=https://colab.research.google.com/notebooks/data_table.ipynb>data table notebook</a>'\n",
              "          + ' to learn more about interactive tables.';\n",
              "        element.innerHTML = '';\n",
              "        dataTable['output_type'] = 'display_data';\n",
              "        await google.colab.output.renderOutput(dataTable, element);\n",
              "        const docLink = document.createElement('div');\n",
              "        docLink.innerHTML = docLinkHtml;\n",
              "        element.appendChild(docLink);\n",
              "      }\n",
              "    </script>\n",
              "  </div>\n",
              "\n",
              "\n",
              "<div id=\"df-72022c59-4977-4037-b92d-651c2fb7432f\">\n",
              "  <button class=\"colab-df-quickchart\" onclick=\"quickchart('df-72022c59-4977-4037-b92d-651c2fb7432f')\"\n",
              "            title=\"Suggest charts\"\n",
              "            style=\"display:none;\">\n",
              "\n",
              "<svg xmlns=\"http://www.w3.org/2000/svg\" height=\"24px\"viewBox=\"0 0 24 24\"\n",
              "     width=\"24px\">\n",
              "    <g>\n",
              "        <path d=\"M19 3H5c-1.1 0-2 .9-2 2v14c0 1.1.9 2 2 2h14c1.1 0 2-.9 2-2V5c0-1.1-.9-2-2-2zM9 17H7v-7h2v7zm4 0h-2V7h2v10zm4 0h-2v-4h2v4z\"/>\n",
              "    </g>\n",
              "</svg>\n",
              "  </button>\n",
              "\n",
              "<style>\n",
              "  .colab-df-quickchart {\n",
              "      --bg-color: #E8F0FE;\n",
              "      --fill-color: #1967D2;\n",
              "      --hover-bg-color: #E2EBFA;\n",
              "      --hover-fill-color: #174EA6;\n",
              "      --disabled-fill-color: #AAA;\n",
              "      --disabled-bg-color: #DDD;\n",
              "  }\n",
              "\n",
              "  [theme=dark] .colab-df-quickchart {\n",
              "      --bg-color: #3B4455;\n",
              "      --fill-color: #D2E3FC;\n",
              "      --hover-bg-color: #434B5C;\n",
              "      --hover-fill-color: #FFFFFF;\n",
              "      --disabled-bg-color: #3B4455;\n",
              "      --disabled-fill-color: #666;\n",
              "  }\n",
              "\n",
              "  .colab-df-quickchart {\n",
              "    background-color: var(--bg-color);\n",
              "    border: none;\n",
              "    border-radius: 50%;\n",
              "    cursor: pointer;\n",
              "    display: none;\n",
              "    fill: var(--fill-color);\n",
              "    height: 32px;\n",
              "    padding: 0;\n",
              "    width: 32px;\n",
              "  }\n",
              "\n",
              "  .colab-df-quickchart:hover {\n",
              "    background-color: var(--hover-bg-color);\n",
              "    box-shadow: 0 1px 2px rgba(60, 64, 67, 0.3), 0 1px 3px 1px rgba(60, 64, 67, 0.15);\n",
              "    fill: var(--button-hover-fill-color);\n",
              "  }\n",
              "\n",
              "  .colab-df-quickchart-complete:disabled,\n",
              "  .colab-df-quickchart-complete:disabled:hover {\n",
              "    background-color: var(--disabled-bg-color);\n",
              "    fill: var(--disabled-fill-color);\n",
              "    box-shadow: none;\n",
              "  }\n",
              "\n",
              "  .colab-df-spinner {\n",
              "    border: 2px solid var(--fill-color);\n",
              "    border-color: transparent;\n",
              "    border-bottom-color: var(--fill-color);\n",
              "    animation:\n",
              "      spin 1s steps(1) infinite;\n",
              "  }\n",
              "\n",
              "  @keyframes spin {\n",
              "    0% {\n",
              "      border-color: transparent;\n",
              "      border-bottom-color: var(--fill-color);\n",
              "      border-left-color: var(--fill-color);\n",
              "    }\n",
              "    20% {\n",
              "      border-color: transparent;\n",
              "      border-left-color: var(--fill-color);\n",
              "      border-top-color: var(--fill-color);\n",
              "    }\n",
              "    30% {\n",
              "      border-color: transparent;\n",
              "      border-left-color: var(--fill-color);\n",
              "      border-top-color: var(--fill-color);\n",
              "      border-right-color: var(--fill-color);\n",
              "    }\n",
              "    40% {\n",
              "      border-color: transparent;\n",
              "      border-right-color: var(--fill-color);\n",
              "      border-top-color: var(--fill-color);\n",
              "    }\n",
              "    60% {\n",
              "      border-color: transparent;\n",
              "      border-right-color: var(--fill-color);\n",
              "    }\n",
              "    80% {\n",
              "      border-color: transparent;\n",
              "      border-right-color: var(--fill-color);\n",
              "      border-bottom-color: var(--fill-color);\n",
              "    }\n",
              "    90% {\n",
              "      border-color: transparent;\n",
              "      border-bottom-color: var(--fill-color);\n",
              "    }\n",
              "  }\n",
              "</style>\n",
              "\n",
              "  <script>\n",
              "    async function quickchart(key) {\n",
              "      const quickchartButtonEl =\n",
              "        document.querySelector('#' + key + ' button');\n",
              "      quickchartButtonEl.disabled = true;  // To prevent multiple clicks.\n",
              "      quickchartButtonEl.classList.add('colab-df-spinner');\n",
              "      try {\n",
              "        const charts = await google.colab.kernel.invokeFunction(\n",
              "            'suggestCharts', [key], {});\n",
              "      } catch (error) {\n",
              "        console.error('Error during call to suggestCharts:', error);\n",
              "      }\n",
              "      quickchartButtonEl.classList.remove('colab-df-spinner');\n",
              "      quickchartButtonEl.classList.add('colab-df-quickchart-complete');\n",
              "    }\n",
              "    (() => {\n",
              "      let quickchartButtonEl =\n",
              "        document.querySelector('#df-72022c59-4977-4037-b92d-651c2fb7432f button');\n",
              "      quickchartButtonEl.style.display =\n",
              "        google.colab.kernel.accessAllowed ? 'block' : 'none';\n",
              "    })();\n",
              "  </script>\n",
              "</div>\n",
              "    </div>\n",
              "  </div>\n"
            ]
          },
          "metadata": {},
          "execution_count": 10
        }
      ],
      "source": [
        "# TODO: Import dataset and inspect the first five columns\n",
        "seeds_data = pd.read_csv('seeds_dataset.txt', sep='\\s+', header=None)\n",
        "column_names = [\"area\", \"perimeter\", \"compactness\", \"kernel_length\", \"kernel_width\", \"asymmetry_coeff\", \"kernel_groove_length\", \"wheat_type\"]\n",
        "seeds_data.columns = column_names\n",
        "seeds_data.head()"
      ]
    },
    {
      "cell_type": "code",
      "source": [
        "seeds_data['wheat_type'].unique()"
      ],
      "metadata": {
        "colab": {
          "base_uri": "https://localhost:8080/"
        },
        "id": "bhpLf4c8vrKz",
        "outputId": "b351f8c0-b31a-4b44-b22b-fd267964a1e6"
      },
      "id": "bhpLf4c8vrKz",
      "execution_count": 11,
      "outputs": [
        {
          "output_type": "execute_result",
          "data": {
            "text/plain": [
              "array([1, 2, 3])"
            ]
          },
          "metadata": {},
          "execution_count": 11
        }
      ]
    },
    {
      "cell_type": "markdown",
      "id": "c0453ae3",
      "metadata": {
        "id": "c0453ae3"
      },
      "source": [
        "Next, you will need to separate the data into your feature matrix and target vector."
      ]
    },
    {
      "cell_type": "code",
      "execution_count": 12,
      "id": "15a5c76c",
      "metadata": {
        "colab": {
          "base_uri": "https://localhost:8080/"
        },
        "id": "15a5c76c",
        "outputId": "33ee07a4-2cad-4929-9e66-9e65fc29288a"
      },
      "outputs": [
        {
          "output_type": "stream",
          "name": "stdout",
          "text": [
            "(210, 7) (210,)\n"
          ]
        }
      ],
      "source": [
        "# TODO: Separate the data into feature matrix and target vector. Print the shape of X and y\n",
        "X = seeds_data[column_names[:-1]]\n",
        "y = seeds_data['wheat_type']\n",
        "print(X.shape, y.shape)"
      ]
    },
    {
      "cell_type": "markdown",
      "id": "e5024bec",
      "metadata": {
        "id": "e5024bec"
      },
      "source": [
        "### Step 2: Preprocessing (2 marks)"
      ]
    },
    {
      "cell_type": "markdown",
      "id": "f908b657",
      "metadata": {
        "id": "f908b657"
      },
      "source": [
        "To preprocess the data, we will need to scale the data. Which scaler would you select and why? *(1 mark)*\n",
        "\n",
        "Standard Scaler is the best choice because first it centers each feature by substracing its mean and second it scales each feature by diving by its standar deviation. Both steps are important because centering the data ensures that PCA is not misled by the mean of the features rather than the underlying structure of the data. And this way of scaling standardizes the variance accross all features ensuring each features contributes equally when computing the principal components.\n",
        "\n",
        "And although other scalers also scale the data (for example MinMax scaler) to a common scale (0 to 1) it doesn't center tha data does not make the standard deviation to be one (standardize the variance) thus some features will have a larger influence when calculating the principal components, which is not what we want."
      ]
    },
    {
      "cell_type": "markdown",
      "id": "c29892b5",
      "metadata": {
        "id": "c29892b5"
      },
      "source": [
        "Before we implement the scaler, we need to split the data into training and testing sets first."
      ]
    },
    {
      "cell_type": "code",
      "execution_count": 13,
      "id": "04f3a4bf",
      "metadata": {
        "id": "04f3a4bf"
      },
      "outputs": [],
      "source": [
        "# TODO: Split the data into training and testing sets\n",
        "from sklearn.model_selection import train_test_split\n",
        "\n",
        "X_train, X_test, y_train, y_test = train_test_split(X, y, random_state=0)"
      ]
    },
    {
      "cell_type": "code",
      "execution_count": 14,
      "id": "f22529a6",
      "metadata": {
        "colab": {
          "base_uri": "https://localhost:8080/"
        },
        "id": "f22529a6",
        "outputId": "9e9e7a0e-c20f-4e0f-c442-6bdfcd6dfec3"
      },
      "outputs": [
        {
          "output_type": "stream",
          "name": "stdout",
          "text": [
            "(157, 7) (157,)\n"
          ]
        }
      ],
      "source": [
        "# TODO: Print the shape of the training feature matrix and target vector\n",
        "print(X_train.shape, y_train.shape)"
      ]
    },
    {
      "cell_type": "markdown",
      "id": "282cbc43",
      "metadata": {
        "id": "282cbc43"
      },
      "source": [
        "Now that we have our training data, we can implement our selected scaler."
      ]
    },
    {
      "cell_type": "code",
      "execution_count": 15,
      "id": "ed75b036",
      "metadata": {
        "id": "ed75b036"
      },
      "outputs": [],
      "source": [
        "# TODO: Scale the data\n",
        "from sklearn.preprocessing import StandardScaler\n",
        "\n",
        "std_scaler = StandardScaler()\n",
        "X_train_scaled = std_scaler.fit_transform(X_train)\n",
        "X_test_scaled = std_scaler.transform(X_test)"
      ]
    },
    {
      "cell_type": "markdown",
      "id": "8cfa23f3",
      "metadata": {
        "id": "8cfa23f3"
      },
      "source": [
        "### Step 3: Model Selection (1 mark)"
      ]
    },
    {
      "cell_type": "markdown",
      "id": "773d0687",
      "metadata": {
        "id": "773d0687"
      },
      "source": [
        "The next step is to instantiate our selected model. In this case, we will be using `LogisticRegression()`"
      ]
    },
    {
      "cell_type": "code",
      "execution_count": 16,
      "id": "b79801bc",
      "metadata": {
        "id": "b79801bc"
      },
      "outputs": [],
      "source": [
        "# TODO: Instantiate model\n",
        "from sklearn.linear_model import LogisticRegression\n",
        "\n",
        "lr = LogisticRegression()"
      ]
    },
    {
      "cell_type": "markdown",
      "id": "2177add4",
      "metadata": {
        "id": "2177add4"
      },
      "source": [
        "### Step 4: Validation (2 marks)"
      ]
    },
    {
      "cell_type": "markdown",
      "id": "4092329e",
      "metadata": {
        "id": "4092329e"
      },
      "source": [
        "To validate the results, we need to use cross-validation. To make sure we are using the best hyperparmeters, we can use a grid search. The parameter grid has been provided below."
      ]
    },
    {
      "cell_type": "code",
      "execution_count": 17,
      "id": "d3e5cfe7",
      "metadata": {
        "id": "d3e5cfe7"
      },
      "outputs": [],
      "source": [
        "param_grid = {'C': [0.01, 0.1, 1.0, 10.0],\n",
        "             'fit_intercept': [True, False]}"
      ]
    },
    {
      "cell_type": "code",
      "execution_count": 18,
      "id": "e0317e3f",
      "metadata": {
        "colab": {
          "base_uri": "https://localhost:8080/"
        },
        "id": "e0317e3f",
        "outputId": "d863716a-bc5b-4eed-dbbc-21886a24be1e"
      },
      "outputs": [
        {
          "output_type": "stream",
          "name": "stdout",
          "text": [
            "Best Parameters: {'C': 10.0, 'fit_intercept': True}\n",
            "Best Cross-Validation Accuracy Score: 0.94\n",
            "Test Accuracy 0.96\n"
          ]
        }
      ],
      "source": [
        "#TODO: Implement the grid search and print the best parameters, cross-validation score and test score\n",
        "from sklearn.model_selection import GridSearchCV\n",
        "\n",
        "grid_search = GridSearchCV(lr, param_grid, cv=5).fit(X_train_scaled, y_train)\n",
        "\n",
        "print(f\"Best Parameters: {grid_search.best_params_}\")\n",
        "print(f\"Best Cross-Validation Accuracy Score: {grid_search.best_score_:.2f}\")\n",
        "print(f\"Test Accuracy {grid_search.score(X_test_scaled, y_test):.2f}\")"
      ]
    },
    {
      "cell_type": "markdown",
      "id": "97cee662",
      "metadata": {
        "id": "97cee662"
      },
      "source": [
        "### Step 5: Visualize using PCA (3 marks)"
      ]
    },
    {
      "cell_type": "markdown",
      "id": "4eed3fd7",
      "metadata": {
        "id": "4eed3fd7"
      },
      "source": [
        "Now you can visualize the results from Step 4 using PCA. Use the best parameters from the previous step to predict the label for the testing data. For the plot, each data point must be colored based on the class label."
      ]
    },
    {
      "cell_type": "code",
      "execution_count": 19,
      "id": "1dc2310c",
      "metadata": {
        "id": "1dc2310c"
      },
      "outputs": [],
      "source": [
        "# TODO: Predict y labels using best estimator\n",
        "y_pred = grid_search.best_estimator_.predict(X_test_scaled)"
      ]
    },
    {
      "cell_type": "code",
      "execution_count": 20,
      "id": "6a3416d3",
      "metadata": {
        "colab": {
          "base_uri": "https://localhost:8080/"
        },
        "id": "6a3416d3",
        "outputId": "451587ec-7981-4f78-b754-9559cf493ce1"
      },
      "outputs": [
        {
          "output_type": "stream",
          "name": "stdout",
          "text": [
            "(53, 7)\n",
            "(53, 2)\n"
          ]
        }
      ],
      "source": [
        "# TODO: Reduce dimensions of test data for plotting\n",
        "from sklearn.decomposition import PCA\n",
        "\n",
        "pca = PCA(2)  # project from 7 to 2 dimensions\n",
        "X_test_projected = pca.fit_transform(X_test_scaled)\n",
        "print(X_test_scaled.data.shape)\n",
        "print(X_test_projected.shape)"
      ]
    },
    {
      "cell_type": "code",
      "execution_count": 21,
      "id": "5317451f",
      "metadata": {
        "colab": {
          "base_uri": "https://localhost:8080/",
          "height": 472
        },
        "id": "5317451f",
        "outputId": "4b79a81c-6d07-4422-9c11-ebd581ee6158"
      },
      "outputs": [
        {
          "output_type": "display_data",
          "data": {
            "text/plain": [
              "<Figure size 640x480 with 1 Axes>"
            ],
            "image/png": "[encoded data removed]"
          },
          "metadata": {}
        }
      ],
      "source": [
        "# TODO: Plot test points colored by predicted label\n",
        "scatter = plt.scatter(X_test_projected[:, 0],\n",
        "            X_test_projected[:, 1],\n",
        "            c=y_pred)\n",
        "plt.xlabel('First principal component')\n",
        "plt.ylabel('Second principal component')\n",
        "plt.title('Test data in PCA reduced space')\n",
        "plt.legend(handles=scatter.legend_elements()[0],\n",
        "           title=\"Wheat Type\",\n",
        "           labels=set(y_pred))  # Set ensures unique labels\n",
        "plt.show()"
      ]
    },
    {
      "cell_type": "markdown",
      "id": "296ea401",
      "metadata": {
        "id": "296ea401"
      },
      "source": [
        "#### Questions (4 marks)\n",
        "\n",
        "1. Did the logistic regression model work well for this dataset? Why would you make this conclusion? *(2 marks)*\n",
        "1. Did PCA work well for this model? How does this relate to the results from the model used? *(2 marks)*\n",
        "\n",
        "1) Because of both the cross-validation accuracy score (0.94) and test accuracy score (0.96) are high and mean that the model generalizes well on unseen data I conclude that linear regression worked well in this dataset.\n",
        "\n",
        "2) I think PCA also worked well because in the graph above we can see that:\n",
        "* a high value in the pc2 along with values around 0 for pc1 is related to wheat type 1\n",
        "* a low value for both pc1 and pc2 is related to wheat type 3\n",
        "* a high value of pc1 but low value of pc2 is related to wheat type 2\n",
        "\n",
        "which demonstrates a clear separation among the classes that the 2 principal components are able to capture.\n"
      ]
    },
    {
      "cell_type": "markdown",
      "id": "c88a3cf1",
      "metadata": {
        "id": "c88a3cf1"
      },
      "source": [
        "### Process Description (4 marks)\n",
        "Please describe the process you used to create your code. Cite any websites or generative AI tools used. You can use the following questions as guidance:\n",
        "1. Where did you source your code?\n",
        "1. In what order did you complete the steps?\n",
        "1. If you used generative AI, what prompts did you use? Did you need to modify the code at all? Why or why not?\n",
        "1. Did you have any challenges? If yes, what were they? If not, what helped you to be successful?"
      ]
    },
    {
      "cell_type": "markdown",
      "id": "d8336341",
      "metadata": {
        "id": "d8336341"
      },
      "source": [
        "1. I sourced my code mainly from the PCA Applications notebook in d2l, and my previous assigment 4. But I also guided myself by following the video StatQuest: PCA in Python in youtube and some code from chatgpt to add the wheat type legends to the scatter plot.\n",
        "1. First I completed all the code sections in the same order it was presented. Then I answered each question. Altough in step 2 I initialy selected Standart scaler just because that's the one the notebooks uses. I later researched if this was the correct scaler or not.\n",
        "1. Yes I used chatgpt twice, once to help me read the txt file and second to help me apply the wheat type legends to the scatter plot. My prompts where how to read a .txt file and how to add class labels to a scatter plot. And yes I had to modified the code in both occations to make it work with this exercise.\n",
        "1. Yes I did have challenges understanding PCA when I first read through the assigment. But I read the slide and watched StatQuest so I was able to make part 1 of the assigmnent and it wasn't that hard after all. I think I do understand PCA now for the most part."
      ]
    },
    {
      "cell_type": "markdown",
      "id": "3bf578b1",
      "metadata": {
        "id": "3bf578b1"
      },
      "source": [
        "## Part 2. Implement clustering (20 marks)"
      ]
    },
    {
      "cell_type": "markdown",
      "id": "937cb37b",
      "metadata": {
        "id": "937cb37b"
      },
      "source": [
        "The agricultural company approaches you again because they lost all the labels for their data. Use the Kmeans clustering method to assign labels to the seeds dataset used in Part 1."
      ]
    },
    {
      "cell_type": "markdown",
      "id": "980c62e1",
      "metadata": {
        "id": "980c62e1"
      },
      "source": [
        "### Step 1: Cluster using original data (6 marks)\n",
        "\n",
        "This part of the assignment asks you to implement Kmeans clustering using the orginal feature matrix (after scaling has been performed)."
      ]
    },
    {
      "cell_type": "code",
      "execution_count": 22,
      "id": "e2c441df",
      "metadata": {
        "id": "e2c441df"
      },
      "outputs": [],
      "source": [
        "# TODO: Scale feature matrix\n",
        "scaler = StandardScaler()\n",
        "X_scaled = scaler.fit_transform(X)"
      ]
    },
    {
      "cell_type": "markdown",
      "id": "6efb7a1b",
      "metadata": {
        "id": "6efb7a1b"
      },
      "source": [
        "The first step is to use the elbow method to determine the optimal number of clusters. In this case, you can use the distortion metric."
      ]
    },
    {
      "cell_type": "code",
      "execution_count": 23,
      "id": "5f85da0b",
      "metadata": {
        "colab": {
          "base_uri": "https://localhost:8080/",
          "height": 449
        },
        "id": "5f85da0b",
        "outputId": "0c6bcf65-41c2-46ea-b455-f6a1ad8ff7c1"
      },
      "outputs": [
        {
          "output_type": "display_data",
          "data": {
            "text/plain": [
              "<Figure size 640x480 with 1 Axes>"
            ],
            "image/png": "[encoded data removed]"
          },
          "metadata": {}
        }
      ],
      "source": [
        "# TODO: Use the elbow method to determine the optimal number of clusters\n",
        "from sklearn.cluster import KMeans\n",
        "\n",
        "inertia = []\n",
        "for n_clusters in range(2, 14):\n",
        "    kmeans = KMeans(n_clusters=n_clusters, random_state=0, n_init=10).fit(X_scaled)\n",
        "    inertia.append(kmeans.inertia_ )\n",
        "\n",
        "inertias = pd.DataFrame({'n_clusters': range(2, 14), 'inertia': inertia})\n",
        "ax = inertias.plot(x='n_clusters', y='inertia')\n",
        "plt.xlabel('Number of clusters(k)')\n",
        "plt.ylabel('Within-Cluster Squared Distances')\n",
        "plt.ylim((0, 1.1 * inertias.inertia.max()))\n",
        "plt.grid(True)\n",
        "ax.legend().set_visible(False)"
      ]
    },
    {
      "cell_type": "markdown",
      "id": "be361544",
      "metadata": {
        "id": "be361544"
      },
      "source": [
        "Next, implement Kmeans and calculate the following validation metrics:\n",
        "- Silhouette score\n",
        "- Calinski-Harabasz score\n",
        "- Davies-Bouldin score"
      ]
    },
    {
      "cell_type": "code",
      "execution_count": 24,
      "id": "da40bf77",
      "metadata": {
        "colab": {
          "base_uri": "https://localhost:8080/",
          "height": 74
        },
        "id": "da40bf77",
        "outputId": "62b465f3-b87f-49f8-dda4-56aff731bafe"
      },
      "outputs": [
        {
          "output_type": "execute_result",
          "data": {
            "text/plain": [
              "KMeans(n_clusters=3, n_init=10, random_state=0)"
            ],
            "text/html": [
              "<style>#sk-container-id-1 {color: black;background-color: white;}#sk-container-id-1 pre{padding: 0;}#sk-container-id-1 div.sk-toggleable {background-color: white;}#sk-container-id-1 label.sk-toggleable__label {cursor: pointer;display: block;width: 100%;margin-bottom: 0;padding: 0.3em;box-sizing: border-box;text-align: center;}#sk-container-id-1 label.sk-toggleable__label-arrow:before {content: \"▸\";float: left;margin-right: 0.25em;color: #696969;}#sk-container-id-1 label.sk-toggleable__label-arrow:hover:before {color: black;}#sk-container-id-1 div.sk-estimator:hover label.sk-toggleable__label-arrow:before {color: black;}#sk-container-id-1 div.sk-toggleable__content {max-height: 0;max-width: 0;overflow: hidden;text-align: left;background-color: #f0f8ff;}#sk-container-id-1 div.sk-toggleable__content pre {margin: 0.2em;color: black;border-radius: 0.25em;background-color: #f0f8ff;}#sk-container-id-1 input.sk-toggleable__control:checked~div.sk-toggleable__content {max-height: 200px;max-width: 100%;overflow: auto;}#sk-container-id-1 input.sk-toggleable__control:checked~label.sk-toggleable__label-arrow:before {content: \"▾\";}#sk-container-id-1 div.sk-estimator input.sk-toggleable__control:checked~label.sk-toggleable__label {background-color: #d4ebff;}#sk-container-id-1 div.sk-label input.sk-toggleable__control:checked~label.sk-toggleable__label {background-color: #d4ebff;}#sk-container-id-1 input.sk-hidden--visually {border: 0;clip: rect(1px 1px 1px 1px);clip: rect(1px, 1px, 1px, 1px);height: 1px;margin: -1px;overflow: hidden;padding: 0;position: absolute;width: 1px;}#sk-container-id-1 div.sk-estimator {font-family: monospace;background-color: #f0f8ff;border: 1px dotted black;border-radius: 0.25em;box-sizing: border-box;margin-bottom: 0.5em;}#sk-container-id-1 div.sk-estimator:hover {background-color: #d4ebff;}#sk-container-id-1 div.sk-parallel-item::after {content: \"\";width: 100%;border-bottom: 1px solid gray;flex-grow: 1;}#sk-container-id-1 div.sk-label:hover label.sk-toggleable__label {background-color: #d4ebff;}#sk-container-id-1 div.sk-serial::before {content: \"\";position: absolute;border-left: 1px solid gray;box-sizing: border-box;top: 0;bottom: 0;left: 50%;z-index: 0;}#sk-container-id-1 div.sk-serial {display: flex;flex-direction: column;align-items: center;background-color: white;padding-right: 0.2em;padding-left: 0.2em;position: relative;}#sk-container-id-1 div.sk-item {position: relative;z-index: 1;}#sk-container-id-1 div.sk-parallel {display: flex;align-items: stretch;justify-content: center;background-color: white;position: relative;}#sk-container-id-1 div.sk-item::before, #sk-container-id-1 div.sk-parallel-item::before {content: \"\";position: absolute;border-left: 1px solid gray;box-sizing: border-box;top: 0;bottom: 0;left: 50%;z-index: -1;}#sk-container-id-1 div.sk-parallel-item {display: flex;flex-direction: column;z-index: 1;position: relative;background-color: white;}#sk-container-id-1 div.sk-parallel-item:first-child::after {align-self: flex-end;width: 50%;}#sk-container-id-1 div.sk-parallel-item:last-child::after {align-self: flex-start;width: 50%;}#sk-container-id-1 div.sk-parallel-item:only-child::after {width: 0;}#sk-container-id-1 div.sk-dashed-wrapped {border: 1px dashed gray;margin: 0 0.4em 0.5em 0.4em;box-sizing: border-box;padding-bottom: 0.4em;background-color: white;}#sk-container-id-1 div.sk-label label {font-family: monospace;font-weight: bold;display: inline-block;line-height: 1.2em;}#sk-container-id-1 div.sk-label-container {text-align: center;}#sk-container-id-1 div.sk-container {/* jupyter's `normalize.less` sets `[hidden] { display: none; }` but bootstrap.min.css set `[hidden] { display: none !important; }` so we also need the `!important` here to be able to override the default hidden behavior on the sphinx rendered scikit-learn.org. See: https://github.com/scikit-learn/scikit-learn/issues/21755 */display: inline-block !important;position: relative;}#sk-container-id-1 div.sk-text-repr-fallback {display: none;}</style><div id=\"sk-container-id-1\" class=\"sk-top-container\"><div class=\"sk-text-repr-fallback\"><pre>KMeans(n_clusters=3, n_init=10, random_state=0)</pre><b>In a Jupyter environment, please rerun this cell to show the HTML representation or trust the notebook. <br />On GitHub, the HTML representation is unable to render, please try loading this page with nbviewer.org.</b></div><div class=\"sk-container\" hidden><div class=\"sk-item\"><div class=\"sk-estimator sk-toggleable\"><input class=\"sk-toggleable__control sk-hidden--visually\" id=\"sk-estimator-id-1\" type=\"checkbox\" checked><label for=\"sk-estimator-id-1\" class=\"sk-toggleable__label sk-toggleable__label-arrow\">KMeans</label><div class=\"sk-toggleable__content\"><pre>KMeans(n_clusters=3, n_init=10, random_state=0)</pre></div></div></div></div></div>"
            ]
          },
          "metadata": {},
          "execution_count": 24
        }
      ],
      "source": [
        "# TODO: Implement K-means with the number of clusters determined in the previous step\n",
        "kmeans = KMeans(n_clusters=3, random_state=0, n_init=10)\n",
        "kmeans.fit(X_scaled)"
      ]
    },
    {
      "cell_type": "code",
      "execution_count": 32,
      "id": "085dc51c",
      "metadata": {
        "id": "085dc51c"
      },
      "outputs": [],
      "source": [
        "# TODO: Calculate the three different validation metrics\n",
        "from sklearn.metrics import silhouette_score, calinski_harabasz_score, davies_bouldin_score\n",
        "\n",
        "cluster_labels = kmeans.labels_\n",
        "\n",
        "silhouette = silhouette_score(X_scaled, cluster_labels)\n",
        "calinski = calinski_harabasz_score(X_scaled, cluster_labels)\n",
        "davies = davies_bouldin_score(X_scaled, cluster_labels)"
      ]
    },
    {
      "cell_type": "markdown",
      "id": "40e40c04",
      "metadata": {
        "id": "40e40c04"
      },
      "source": [
        "Plot the clustering results using PCA. Remember to color each data point based on the cluster label."
      ]
    },
    {
      "cell_type": "code",
      "execution_count": 37,
      "id": "47012908",
      "metadata": {
        "colab": {
          "base_uri": "https://localhost:8080/",
          "height": 472
        },
        "id": "47012908",
        "outputId": "f3b89bd9-02d8-4a26-ca95-1c78e75659af"
      },
      "outputs": [
        {
          "output_type": "display_data",
          "data": {
            "text/plain": [
              "<Figure size 640x480 with 1 Axes>"
            ],
            "image/png": "[encoded data removed]"
          },
          "metadata": {}
        }
      ],
      "source": [
        "# TODO: Plot clustering results\n",
        "pca = PCA(2)\n",
        "X_projected = pca.fit_transform(X_scaled)\n",
        "\n",
        "scatter = plt.scatter(X_projected[:, 0],\n",
        "            X_projected[:, 1],\n",
        "            c=cluster_labels)\n",
        "plt.xlabel('First principal component')\n",
        "plt.ylabel('Second principal component')\n",
        "plt.title('Clustering results using PCA')\n",
        "plt.legend(handles=scatter.legend_elements()[0],\n",
        "           title=\"Wheat Type\",\n",
        "           labels=set(cluster_labels+1))  # Set ensures unique labels, +1 ensures types are from 1 to 3\n",
        "plt.show()"
      ]
    },
    {
      "cell_type": "markdown",
      "id": "48df428e",
      "metadata": {
        "id": "48df428e"
      },
      "source": [
        "### Step 2: Cluster using PCA-transformed data (4 marks)\n",
        "\n",
        "Implement Kmeans clustering using PCA-transformed data. The first step is to use the explained variance ratio to find the number of components required to explain at least 95% of the variance."
      ]
    },
    {
      "cell_type": "code",
      "execution_count": 43,
      "id": "de0a5d80",
      "metadata": {
        "colab": {
          "base_uri": "https://localhost:8080/"
        },
        "id": "de0a5d80",
        "outputId": "c979a73c-9b41-48f1-de81-4cd5675f13e1"
      },
      "outputs": [
        {
          "output_type": "stream",
          "name": "stdout",
          "text": [
            "Number of principal components to explain 95% variance: 3\n"
          ]
        }
      ],
      "source": [
        "# TODO: Find the number of principal components using explained variance ratio\n",
        "pca = PCA().fit(X_scaled)\n",
        "explained_variance = np.cumsum(pca.explained_variance_ratio_)\n",
        "n_components = np.where(explained_variance >= 0.95)[0][0] + 1\n",
        "print(f\"Number of principal components to explain 95% variance: {n_components}\")"
      ]
    },
    {
      "cell_type": "markdown",
      "id": "8af06a41",
      "metadata": {
        "id": "8af06a41"
      },
      "source": [
        "Next, transform the data using PCA, implement Kmeans and calculate the three validation metrics used in the previous step."
      ]
    },
    {
      "cell_type": "code",
      "execution_count": 44,
      "id": "3ed38b89",
      "metadata": {
        "colab": {
          "base_uri": "https://localhost:8080/"
        },
        "id": "3ed38b89",
        "outputId": "47247a9e-8f25-4749-f06e-4963da8e1363"
      },
      "outputs": [
        {
          "output_type": "stream",
          "name": "stdout",
          "text": [
            "Transformed shape of X after PCA: (210, 3)\n"
          ]
        }
      ],
      "source": [
        "# TODO: Use PCA to transform the data\n",
        "pca = PCA(n_components)\n",
        "X_pca = pca.fit_transform(X_scaled)\n",
        "print(f\"Transformed shape of X after PCA: {X_pca.shape}\")"
      ]
    },
    {
      "cell_type": "code",
      "execution_count": 40,
      "id": "cc8b981e",
      "metadata": {
        "colab": {
          "base_uri": "https://localhost:8080/",
          "height": 128
        },
        "id": "cc8b981e",
        "outputId": "5f73b9e2-36e7-4159-d3ce-3eef37c7ff02"
      },
      "outputs": [
        {
          "output_type": "stream",
          "name": "stderr",
          "text": [
            "/usr/local/lib/python3.10/dist-packages/sklearn/cluster/_kmeans.py:870: FutureWarning: The default value of `n_init` will change from 10 to 'auto' in 1.4. Set the value of `n_init` explicitly to suppress the warning\n",
            "  warnings.warn(\n"
          ]
        },
        {
          "output_type": "execute_result",
          "data": {
            "text/plain": [
              "KMeans(n_clusters=3, random_state=0)"
            ],
            "text/html": [
              "<style>#sk-container-id-3 {color: black;background-color: white;}#sk-container-id-3 pre{padding: 0;}#sk-container-id-3 div.sk-toggleable {background-color: white;}#sk-container-id-3 label.sk-toggleable__label {cursor: pointer;display: block;width: 100%;margin-bottom: 0;padding: 0.3em;box-sizing: border-box;text-align: center;}#sk-container-id-3 label.sk-toggleable__label-arrow:before {content: \"▸\";float: left;margin-right: 0.25em;color: #696969;}#sk-container-id-3 label.sk-toggleable__label-arrow:hover:before {color: black;}#sk-container-id-3 div.sk-estimator:hover label.sk-toggleable__label-arrow:before {color: black;}#sk-container-id-3 div.sk-toggleable__content {max-height: 0;max-width: 0;overflow: hidden;text-align: left;background-color: #f0f8ff;}#sk-container-id-3 div.sk-toggleable__content pre {margin: 0.2em;color: black;border-radius: 0.25em;background-color: #f0f8ff;}#sk-container-id-3 input.sk-toggleable__control:checked~div.sk-toggleable__content {max-height: 200px;max-width: 100%;overflow: auto;}#sk-container-id-3 input.sk-toggleable__control:checked~label.sk-toggleable__label-arrow:before {content: \"▾\";}#sk-container-id-3 div.sk-estimator input.sk-toggleable__control:checked~label.sk-toggleable__label {background-color: #d4ebff;}#sk-container-id-3 div.sk-label input.sk-toggleable__control:checked~label.sk-toggleable__label {background-color: #d4ebff;}#sk-container-id-3 input.sk-hidden--visually {border: 0;clip: rect(1px 1px 1px 1px);clip: rect(1px, 1px, 1px, 1px);height: 1px;margin: -1px;overflow: hidden;padding: 0;position: absolute;width: 1px;}#sk-container-id-3 div.sk-estimator {font-family: monospace;background-color: #f0f8ff;border: 1px dotted black;border-radius: 0.25em;box-sizing: border-box;margin-bottom: 0.5em;}#sk-container-id-3 div.sk-estimator:hover {background-color: #d4ebff;}#sk-container-id-3 div.sk-parallel-item::after {content: \"\";width: 100%;border-bottom: 1px solid gray;flex-grow: 1;}#sk-container-id-3 div.sk-label:hover label.sk-toggleable__label {background-color: #d4ebff;}#sk-container-id-3 div.sk-serial::before {content: \"\";position: absolute;border-left: 1px solid gray;box-sizing: border-box;top: 0;bottom: 0;left: 50%;z-index: 0;}#sk-container-id-3 div.sk-serial {display: flex;flex-direction: column;align-items: center;background-color: white;padding-right: 0.2em;padding-left: 0.2em;position: relative;}#sk-container-id-3 div.sk-item {position: relative;z-index: 1;}#sk-container-id-3 div.sk-parallel {display: flex;align-items: stretch;justify-content: center;background-color: white;position: relative;}#sk-container-id-3 div.sk-item::before, #sk-container-id-3 div.sk-parallel-item::before {content: \"\";position: absolute;border-left: 1px solid gray;box-sizing: border-box;top: 0;bottom: 0;left: 50%;z-index: -1;}#sk-container-id-3 div.sk-parallel-item {display: flex;flex-direction: column;z-index: 1;position: relative;background-color: white;}#sk-container-id-3 div.sk-parallel-item:first-child::after {align-self: flex-end;width: 50%;}#sk-container-id-3 div.sk-parallel-item:last-child::after {align-self: flex-start;width: 50%;}#sk-container-id-3 div.sk-parallel-item:only-child::after {width: 0;}#sk-container-id-3 div.sk-dashed-wrapped {border: 1px dashed gray;margin: 0 0.4em 0.5em 0.4em;box-sizing: border-box;padding-bottom: 0.4em;background-color: white;}#sk-container-id-3 div.sk-label label {font-family: monospace;font-weight: bold;display: inline-block;line-height: 1.2em;}#sk-container-id-3 div.sk-label-container {text-align: center;}#sk-container-id-3 div.sk-container {/* jupyter's `normalize.less` sets `[hidden] { display: none; }` but bootstrap.min.css set `[hidden] { display: none !important; }` so we also need the `!important` here to be able to override the default hidden behavior on the sphinx rendered scikit-learn.org. See: https://github.com/scikit-learn/scikit-learn/issues/21755 */display: inline-block !important;position: relative;}#sk-container-id-3 div.sk-text-repr-fallback {display: none;}</style><div id=\"sk-container-id-3\" class=\"sk-top-container\"><div class=\"sk-text-repr-fallback\"><pre>KMeans(n_clusters=3, random_state=0)</pre><b>In a Jupyter environment, please rerun this cell to show the HTML representation or trust the notebook. <br />On GitHub, the HTML representation is unable to render, please try loading this page with nbviewer.org.</b></div><div class=\"sk-container\" hidden><div class=\"sk-item\"><div class=\"sk-estimator sk-toggleable\"><input class=\"sk-toggleable__control sk-hidden--visually\" id=\"sk-estimator-id-3\" type=\"checkbox\" checked><label for=\"sk-estimator-id-3\" class=\"sk-toggleable__label sk-toggleable__label-arrow\">KMeans</label><div class=\"sk-toggleable__content\"><pre>KMeans(n_clusters=3, random_state=0)</pre></div></div></div></div></div>"
            ]
          },
          "metadata": {},
          "execution_count": 40
        }
      ],
      "source": [
        "# TODO: Implement K-means with the transformed data\n",
        "kmeans_pca = KMeans(n_clusters=3, random_state=0)\n",
        "kmeans_pca.fit(X_pca)"
      ]
    },
    {
      "cell_type": "code",
      "execution_count": 41,
      "id": "f5a3bf4b",
      "metadata": {
        "id": "f5a3bf4b"
      },
      "outputs": [],
      "source": [
        "# TODO: Calculate the three different validation metrics\n",
        "silhouette_pca = silhouette_score(X_pca, kmeans_pca.labels_)\n",
        "calinski_pca = calinski_harabasz_score(X_pca, kmeans_pca.labels_)\n",
        "davies_pca = davies_bouldin_score(X_pca, kmeans_pca.labels_)"
      ]
    },
    {
      "cell_type": "markdown",
      "id": "50eb5219",
      "metadata": {
        "id": "50eb5219"
      },
      "source": [
        "### Step 3: Display results (2 marks)\n",
        "\n",
        "Print the results for Steps 2 and 3 in a table. Include column and row labels"
      ]
    },
    {
      "cell_type": "code",
      "execution_count": 42,
      "id": "6c945947",
      "metadata": {
        "colab": {
          "base_uri": "https://localhost:8080/",
          "height": 142
        },
        "id": "6c945947",
        "outputId": "6a280380-69b4-41d1-a4c3-d9cc52ac1880"
      },
      "outputs": [
        {
          "output_type": "execute_result",
          "data": {
            "text/plain": [
              "                    Metric  Original Data  PCA Transformed Data\n",
              "0         Silhouette Score       0.400727              0.410082\n",
              "1  Calinski-Harabasz Score     249.784175            260.288507\n",
              "2     Davies-Bouldin Score       0.927871              0.903069"
            ],
            "text/html": [
              "\n",
              "  <div id=\"df-3fb1a047-5851-43d9-a5b1-f978cc8d03c6\" class=\"colab-df-container\">\n",
              "    <div>\n",
              "<style scoped>\n",
              "    .dataframe tbody tr th:only-of-type {\n",
              "        vertical-align: middle;\n",
              "    }\n",
              "\n",
              "    .dataframe tbody tr th {\n",
              "        vertical-align: top;\n",
              "    }\n",
              "\n",
              "    .dataframe thead th {\n",
              "        text-align: right;\n",
              "    }\n",
              "</style>\n",
              "<table border=\"1\" class=\"dataframe\">\n",
              "  <thead>\n",
              "    <tr style=\"text-align: right;\">\n",
              "      <th></th>\n",
              "      <th>Metric</th>\n",
              "      <th>Original Data</th>\n",
              "      <th>PCA Transformed Data</th>\n",
              "    </tr>\n",
              "  </thead>\n",
              "  <tbody>\n",
              "    <tr>\n",
              "      <th>0</th>\n",
              "      <td>Silhouette Score</td>\n",
              "      <td>0.400727</td>\n",
              "      <td>0.410082</td>\n",
              "    </tr>\n",
              "    <tr>\n",
              "      <th>1</th>\n",
              "      <td>Calinski-Harabasz Score</td>\n",
              "      <td>249.784175</td>\n",
              "      <td>260.288507</td>\n",
              "    </tr>\n",
              "    <tr>\n",
              "      <th>2</th>\n",
              "      <td>Davies-Bouldin Score</td>\n",
              "      <td>0.927871</td>\n",
              "      <td>0.903069</td>\n",
              "    </tr>\n",
              "  </tbody>\n",
              "</table>\n",
              "</div>\n",
              "    <div class=\"colab-df-buttons\">\n",
              "\n",
              "  <div class=\"colab-df-container\">\n",
              "    <button class=\"colab-df-convert\" onclick=\"convertToInteractive('df-3fb1a047-5851-43d9-a5b1-f978cc8d03c6')\"\n",
              "            title=\"Convert this dataframe to an interactive table.\"\n",
              "            style=\"display:none;\">\n",
              "\n",
              "  <svg xmlns=\"http://www.w3.org/2000/svg\" height=\"24px\" viewBox=\"0 -960 960 960\">\n",
              "    <path d=\"M120-120v-720h720v720H120Zm60-500h600v-160H180v160Zm220 220h160v-160H400v160Zm0 220h160v-160H400v160ZM180-400h160v-160H180v160Zm440 0h160v-160H620v160ZM180-180h160v-160H180v160Zm440 0h160v-160H620v160Z\"/>\n",
              "  </svg>\n",
              "    </button>\n",
              "\n",
              "  <style>\n",
              "    .colab-df-container {\n",
              "      display:flex;\n",
              "      gap: 12px;\n",
              "    }\n",
              "\n",
              "    .colab-df-convert {\n",
              "      background-color: #E8F0FE;\n",
              "      border: none;\n",
              "      border-radius: 50%;\n",
              "      cursor: pointer;\n",
              "      display: none;\n",
              "      fill: #1967D2;\n",
              "      height: 32px;\n",
              "      padding: 0 0 0 0;\n",
              "      width: 32px;\n",
              "    }\n",
              "\n",
              "    .colab-df-convert:hover {\n",
              "      background-color: #E2EBFA;\n",
              "      box-shadow: 0px 1px 2px rgba(60, 64, 67, 0.3), 0px 1px 3px 1px rgba(60, 64, 67, 0.15);\n",
              "      fill: #174EA6;\n",
              "    }\n",
              "\n",
              "    .colab-df-buttons div {\n",
              "      margin-bottom: 4px;\n",
              "    }\n",
              "\n",
              "    [theme=dark] .colab-df-convert {\n",
              "      background-color: #3B4455;\n",
              "      fill: #D2E3FC;\n",
              "    }\n",
              "\n",
              "    [theme=dark] .colab-df-convert:hover {\n",
              "      background-color: #434B5C;\n",
              "      box-shadow: 0px 1px 3px 1px rgba(0, 0, 0, 0.15);\n",
              "      filter: drop-shadow(0px 1px 2px rgba(0, 0, 0, 0.3));\n",
              "      fill: #FFFFFF;\n",
              "    }\n",
              "  </style>\n",
              "\n",
              "    <script>\n",
              "      const buttonEl =\n",
              "        document.querySelector('#df-3fb1a047-5851-43d9-a5b1-f978cc8d03c6 button.colab-df-convert');\n",
              "      buttonEl.style.display =\n",
              "        google.colab.kernel.accessAllowed ? 'block' : 'none';\n",
              "\n",
              "      async function convertToInteractive(key) {\n",
              "        const element = document.querySelector('#df-3fb1a047-5851-43d9-a5b1-f978cc8d03c6');\n",
              "        const dataTable =\n",
              "          await google.colab.kernel.invokeFunction('convertToInteractive',\n",
              "                                                    [key], {});\n",
              "        if (!dataTable) return;\n",
              "\n",
              "        const docLinkHtml = 'Like what you see? Visit the ' +\n",
              "          '<a target=\"_blank\" href=https://colab.research.google.com/notebooks/data_table.ipynb>data table notebook</a>'\n",
              "          + ' to learn more about interactive tables.';\n",
              "        element.innerHTML = '';\n",
              "        dataTable['output_type'] = 'display_data';\n",
              "        await google.colab.output.renderOutput(dataTable, element);\n",
              "        const docLink = document.createElement('div');\n",
              "        docLink.innerHTML = docLinkHtml;\n",
              "        element.appendChild(docLink);\n",
              "      }\n",
              "    </script>\n",
              "  </div>\n",
              "\n",
              "\n",
              "<div id=\"df-226aaf3c-348e-4d10-a14c-e30af5827f60\">\n",
              "  <button class=\"colab-df-quickchart\" onclick=\"quickchart('df-226aaf3c-348e-4d10-a14c-e30af5827f60')\"\n",
              "            title=\"Suggest charts\"\n",
              "            style=\"display:none;\">\n",
              "\n",
              "<svg xmlns=\"http://www.w3.org/2000/svg\" height=\"24px\"viewBox=\"0 0 24 24\"\n",
              "     width=\"24px\">\n",
              "    <g>\n",
              "        <path d=\"M19 3H5c-1.1 0-2 .9-2 2v14c0 1.1.9 2 2 2h14c1.1 0 2-.9 2-2V5c0-1.1-.9-2-2-2zM9 17H7v-7h2v7zm4 0h-2V7h2v10zm4 0h-2v-4h2v4z\"/>\n",
              "    </g>\n",
              "</svg>\n",
              "  </button>\n",
              "\n",
              "<style>\n",
              "  .colab-df-quickchart {\n",
              "      --bg-color: #E8F0FE;\n",
              "      --fill-color: #1967D2;\n",
              "      --hover-bg-color: #E2EBFA;\n",
              "      --hover-fill-color: #174EA6;\n",
              "      --disabled-fill-color: #AAA;\n",
              "      --disabled-bg-color: #DDD;\n",
              "  }\n",
              "\n",
              "  [theme=dark] .colab-df-quickchart {\n",
              "      --bg-color: #3B4455;\n",
              "      --fill-color: #D2E3FC;\n",
              "      --hover-bg-color: #434B5C;\n",
              "      --hover-fill-color: #FFFFFF;\n",
              "      --disabled-bg-color: #3B4455;\n",
              "      --disabled-fill-color: #666;\n",
              "  }\n",
              "\n",
              "  .colab-df-quickchart {\n",
              "    background-color: var(--bg-color);\n",
              "    border: none;\n",
              "    border-radius: 50%;\n",
              "    cursor: pointer;\n",
              "    display: none;\n",
              "    fill: var(--fill-color);\n",
              "    height: 32px;\n",
              "    padding: 0;\n",
              "    width: 32px;\n",
              "  }\n",
              "\n",
              "  .colab-df-quickchart:hover {\n",
              "    background-color: var(--hover-bg-color);\n",
              "    box-shadow: 0 1px 2px rgba(60, 64, 67, 0.3), 0 1px 3px 1px rgba(60, 64, 67, 0.15);\n",
              "    fill: var(--button-hover-fill-color);\n",
              "  }\n",
              "\n",
              "  .colab-df-quickchart-complete:disabled,\n",
              "  .colab-df-quickchart-complete:disabled:hover {\n",
              "    background-color: var(--disabled-bg-color);\n",
              "    fill: var(--disabled-fill-color);\n",
              "    box-shadow: none;\n",
              "  }\n",
              "\n",
              "  .colab-df-spinner {\n",
              "    border: 2px solid var(--fill-color);\n",
              "    border-color: transparent;\n",
              "    border-bottom-color: var(--fill-color);\n",
              "    animation:\n",
              "      spin 1s steps(1) infinite;\n",
              "  }\n",
              "\n",
              "  @keyframes spin {\n",
              "    0% {\n",
              "      border-color: transparent;\n",
              "      border-bottom-color: var(--fill-color);\n",
              "      border-left-color: var(--fill-color);\n",
              "    }\n",
              "    20% {\n",
              "      border-color: transparent;\n",
              "      border-left-color: var(--fill-color);\n",
              "      border-top-color: var(--fill-color);\n",
              "    }\n",
              "    30% {\n",
              "      border-color: transparent;\n",
              "      border-left-color: var(--fill-color);\n",
              "      border-top-color: var(--fill-color);\n",
              "      border-right-color: var(--fill-color);\n",
              "    }\n",
              "    40% {\n",
              "      border-color: transparent;\n",
              "      border-right-color: var(--fill-color);\n",
              "      border-top-color: var(--fill-color);\n",
              "    }\n",
              "    60% {\n",
              "      border-color: transparent;\n",
              "      border-right-color: var(--fill-color);\n",
              "    }\n",
              "    80% {\n",
              "      border-color: transparent;\n",
              "      border-right-color: var(--fill-color);\n",
              "      border-bottom-color: var(--fill-color);\n",
              "    }\n",
              "    90% {\n",
              "      border-color: transparent;\n",
              "      border-bottom-color: var(--fill-color);\n",
              "    }\n",
              "  }\n",
              "</style>\n",
              "\n",
              "  <script>\n",
              "    async function quickchart(key) {\n",
              "      const quickchartButtonEl =\n",
              "        document.querySelector('#' + key + ' button');\n",
              "      quickchartButtonEl.disabled = true;  // To prevent multiple clicks.\n",
              "      quickchartButtonEl.classList.add('colab-df-spinner');\n",
              "      try {\n",
              "        const charts = await google.colab.kernel.invokeFunction(\n",
              "            'suggestCharts', [key], {});\n",
              "      } catch (error) {\n",
              "        console.error('Error during call to suggestCharts:', error);\n",
              "      }\n",
              "      quickchartButtonEl.classList.remove('colab-df-spinner');\n",
              "      quickchartButtonEl.classList.add('colab-df-quickchart-complete');\n",
              "    }\n",
              "    (() => {\n",
              "      let quickchartButtonEl =\n",
              "        document.querySelector('#df-226aaf3c-348e-4d10-a14c-e30af5827f60 button');\n",
              "      quickchartButtonEl.style.display =\n",
              "        google.colab.kernel.accessAllowed ? 'block' : 'none';\n",
              "    })();\n",
              "  </script>\n",
              "</div>\n",
              "    </div>\n",
              "  </div>\n"
            ]
          },
          "metadata": {},
          "execution_count": 42
        }
      ],
      "source": [
        "# TODO: Display results\n",
        "results_df = pd.DataFrame({\n",
        "    'Metric': ['Silhouette Score', 'Calinski-Harabasz Score', 'Davies-Bouldin Score'],\n",
        "    'Original Data': [silhouette, calinski, davies],\n",
        "    'PCA Transformed Data': [silhouette_pca, calinski_pca, davies_pca]\n",
        "})\n",
        "\n",
        "results_df"
      ]
    },
    {
      "cell_type": "markdown",
      "id": "e1086de9",
      "metadata": {
        "id": "e1086de9"
      },
      "source": [
        "#### Questions (4 marks)\n",
        "\n",
        "1. Did the optimal number of clusters make sense based on the context? *(1 mark)*\n",
        "1. Compare the PCA plot from Part 2 step 1 to the PCA plot from Part 1. Did we get similar results? *(1 mark)*\n",
        "1. How many components did you use for the PCA analysis? Did using PCA improve your results? Why or why not? *(2 marks)*\n",
        "\n",
        "\n",
        "1) Yes, by using the elbow method we identified 3 as the number of optimal clusting, which in fact alings precesily with 3 clasees that we have in the labeled dataset.\n",
        "\n",
        "2) In both plots (using lr or using clustering) we can observe 3 separable classes/clusters. The shape of the clusters is also similar between the two plots. However the plot we get from using clustering starts to overlap at the edges of the clusters. I think this results are expected as with lr we have the labels and thus we can expect a better class separation. But this shows that clustering can be a powerful tool with certain datasets.\n",
        "\n",
        "3) I used two components and thus a 2D plot. The first principal component x-axis and second principal component y-axis. Yes it improved the results because for both the silhoute and calisnki a higher score is better. Wheareas for DB a score closer to zero is better. However determining how much is the difference by just looking at the numbers is hard to tell. At least that is what I can recall according to the lectures and it is more based on the context. But please correct me if I got it wrong.\n",
        "\n"
      ]
    },
    {
      "cell_type": "markdown",
      "id": "521489ee",
      "metadata": {
        "id": "521489ee"
      },
      "source": [
        "### Process Description (4 marks)\n",
        "Please describe the process you used to create your code. Cite any websites or generative AI tools used. You can use the following questions as guidance:\n",
        "1. Where did you source your code?\n",
        "1. In what order did you complete the steps?\n",
        "1. If you used generative AI, what prompts did you use? Did you need to modify the code at all? Why or why not?\n",
        "1. Did you have any challenges? If yes, what were they? If not, what helped you to be successful?"
      ]
    },
    {
      "cell_type": "markdown",
      "id": "e4ae4b12",
      "metadata": {
        "id": "e4ae4b12"
      },
      "source": [
        "1) I sourced my code from the the finding K, Kmeans examples and NFL clustering notebooks.\n",
        "\n",
        "2) I completed every step and question in the order they were presented.\n",
        "\n",
        "3) I used chat gpt to give me code to calculate the number of components using explained variance ratio as I cound't find that code in the notebooks or maybe i just didn't see it. Yes I modified the code but just to change it to actual name of my variables.\n",
        "\n",
        "4) Although I find the concept of clustering easier than the concept of PCA. For me part 2 of this assigment was more difficult. And I got confused about why we would want to apply pca before clustering. But I understand now the difference between using PCA for visualization versus using PCA for dimensionality reduction."
      ]
    },
    {
      "cell_type": "markdown",
      "id": "05e42ec7",
      "metadata": {
        "id": "05e42ec7"
      },
      "source": [
        "## Part 3: Reflection (2 marks)\n",
        "Include a sentence or two about:\n",
        "- what you liked or disliked,\n",
        "- found interesting, confusing, challangeing, motivating\n",
        "while working on this assignment.\n",
        "\n",
        "I liked that we learnt how we can visualize data with many features (dimensions) in a 2D graph by using two principal components. And I like that we were able to compare hand by hand lr with k-means and obtain similar results. Although I understand there are many cases k-means won't be as effective.\n",
        "\n",
        "Thank you for all the assigments. I liked all of them. They were all very interesting and challenging at times."
      ]
    }
  ],
  "metadata": {
    "kernelspec": {
      "display_name": "Python 3 (ipykernel)",
      "language": "python",
      "name": "python3"
    },
    "language_info": {
      "codemirror_mode": {
        "name": "ipython",
        "version": 3
      },
      "file_extension": ".py",
      "mimetype": "text/x-python",
      "name": "python",
      "nbconvert_exporter": "python",
      "pygments_lexer": "ipython3",
      "version": "3.11.4"
    },
    "colab": {
      "provenance": []
    }
  },
  "nbformat": 4,
  "nbformat_minor": 5
}